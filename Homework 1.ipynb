{
 "cells": [
  {
   "cell_type": "markdown",
   "id": "8d0a8bef",
   "metadata": {},
   "source": [
    "# Homework 1\n",
    "Pamela Pupiales 213871"
   ]
  },
  {
   "cell_type": "code",
   "execution_count": 164,
   "id": "9c117fdc",
   "metadata": {},
   "outputs": [],
   "source": [
    "import time\n",
    "import pandas as pd\n",
    "import matplotlib.pyplot as plt\n",
    "import random\n",
    "import numpy as np\n",
    "import statistics as stats"
   ]
  },
  {
   "cell_type": "markdown",
   "id": "35509289",
   "metadata": {},
   "source": [
    "##  1. Sort the following functions in decreasing order of asymptotic complexity ($O(f(n))$):\n",
    "\n",
    "- $f_1(n) = n^\\sqrt{n}$\n",
    "- $f_2(n) = 2^n$\n",
    "- $f_3(n) = {n\\choose 2}$\n",
    "- $f_4(n) = \\sum_{i=2}^n (i-1)$"
   ]
  },
  {
   "cell_type": "markdown",
   "id": "7fcf27a6",
   "metadata": {},
   "source": [
    "$Cuando$\\\n",
    "$c= 1$\\\n",
    "${n\\geq2}$\n",
    "\n",
    "- ${n^\\sqrt{n}}$ es ${O(2^n)}$\n",
    "\n",
    "${2^\\sqrt{2} \\leq {2^2}}$\n",
    "\n",
    "${2.66 \\leq 4}$\n",
    "\n",
    "- ${n\\choose 2}$ es ${O(n^\\sqrt{n})}$\n",
    "\n",
    "${2\\choose 2}$ ${\\leq}$ ${2^\\sqrt{2}}$\n",
    "\n",
    "${1 \\leq 2.66}$\n",
    "\n",
    "- ${\\sum_{i=2}^n (i-1)}$ es $O$${n\\choose 2}$\n",
    "\n",
    "${\\sum_{i=2}^2 (i-1) \\leq}$ ${2\\choose 2}$\n",
    "\n",
    "${1 \\leq 1}$\n",
    "\n",
    "Por lo tanto, el orden decreciente es:\n",
    "- $f_2(n) = 2^n$\n",
    "- $f_1(n) = n^\\sqrt{n}$\n",
    "- $f_3(n) = {n\\choose 2}$\n",
    "- $f_4(n) = \\sum_{i=2}^n (i-1)$"
   ]
  },
  {
   "cell_type": "markdown",
   "id": "6079fb21",
   "metadata": {},
   "source": [
    "## 2. Implement in Python the insertion sort procedure to sort into non-increasing instead of non-decreasing order \n",
    "\n",
    "1. Use the `time` function to measure the execution time for the best and worst inputs of size between 10 and 1,000 (use steps of 10)\n",
    "2. Plot the best and worst execution times measured in (2.1) as a function of $n$\n",
    "3. Use the `random` function to generate randomly sorted inputs to calculate the execution time. For each $n$ run the program for 100 different inputs. Do for $n = 100,200, \\dots, 1000$.\n",
    "4. Plot the mean, median, and standard deviation as a function of $n$ for the values obtained in 2.3\n"
   ]
  },
  {
   "cell_type": "markdown",
   "id": "16c5701a",
   "metadata": {},
   "source": [
    "Insertion sort"
   ]
  },
  {
   "cell_type": "code",
   "execution_count": 165,
   "id": "b9153817",
   "metadata": {},
   "outputs": [
    {
     "name": "stdout",
     "output_type": "stream",
     "text": [
      "[10, 9, 8, 7, 6, 5, 4, 3, 2, 1]\n"
     ]
    }
   ],
   "source": [
    "#Insertion sort \n",
    "list= [3, 8, 4, 1, 10, 5, 2, 7, 6, 9]\n",
    "def inserS(list):\n",
    "    for i in range(1,len(list)):\n",
    "        l = list[i]\n",
    "        j = i - 1\n",
    "        while (j >= 0 and l > list[j]):\n",
    "            list[j + 1] = list[j]\n",
    "            j -= 1\n",
    "        list[j + 1] = l\n",
    "        \n",
    "inserS(list)\n",
    "print(list)"
   ]
  },
  {
   "cell_type": "markdown",
   "id": "009719ae",
   "metadata": {},
   "source": [
    "Time insertion sort best case"
   ]
  },
  {
   "cell_type": "code",
   "execution_count": 17,
   "id": "c96f6f90",
   "metadata": {},
   "outputs": [
    {
     "name": "stdout",
     "output_type": "stream",
     "text": [
      "6.05 µs ± 103 ns per loop (mean ± std. dev. of 7 runs, 100000 loops each)\n"
     ]
    },
    {
     "data": {
      "image/png": "[encoded data removed]",
      "text/plain": [
       "<Figure size 432x288 with 1 Axes>"
      ]
     },
     "metadata": {
      "needs_background": "light"
     },
     "output_type": "display_data"
    }
   ],
   "source": [
    "list= [10, 9, 8, 7, 6, 5, 4, 3, 2, 1]\n",
    "def sum_n(n):\n",
    "    start = 1000000*time.time()\n",
    "    total = 0\n",
    "    for i in range(1,len(list)):\n",
    "        l = list[i]\n",
    "        j = i - 1\n",
    "        while (j >= 0 and l > list[j]):\n",
    "            list[j + 1] = list[j]\n",
    "            j -= 1\n",
    "        list[j + 1] = l\n",
    "    return 1000000*time.time() - start\n",
    "\n",
    "\n",
    "r = pd.DataFrame()\n",
    "r['n'] = range(10,1000,1)\n",
    "r['time_loop'] = [sum_n(x) for x in r['n']]\n",
    "r['time_loop'] = 1000000*r['time_loop']\n",
    "r.plot(x='n', y='time_loop')\n",
    "plt.grid()\n",
    "plt.ylabel('us')\n",
    "%timeit sum_n(100)"
   ]
  },
  {
   "cell_type": "markdown",
   "id": "f2ae6c0e",
   "metadata": {},
   "source": [
    "Time insertion sort worst case"
   ]
  },
  {
   "cell_type": "code",
   "execution_count": 119,
   "id": "09379e3e",
   "metadata": {},
   "outputs": [
    {
     "name": "stdout",
     "output_type": "stream",
     "text": [
      "6.52 µs ± 402 ns per loop (mean ± std. dev. of 7 runs, 100000 loops each)\n"
     ]
    },
    {
     "data": {
      "image/png": "[encoded data removed]",
      "text/plain": [
       "<Figure size 432x288 with 1 Axes>"
      ]
     },
     "metadata": {
      "needs_background": "light"
     },
     "output_type": "display_data"
    }
   ],
   "source": [
    "list= [1, 2, 3, 4, 5, 6, 7, 8, 9, 10]\n",
    "def sum_n(n):\n",
    "    start = 1000000*time.time()\n",
    "    total = 0\n",
    "    for i in range(1,len(list)):\n",
    "        l = list[i]\n",
    "        j = i - 1\n",
    "        while (j >= 0 and l > list[j]):\n",
    "            list[j + 1] = list[j]\n",
    "            j -= 1\n",
    "        list[j + 1] = l\n",
    "    return 1000000*time.time() - start\n",
    "\n",
    "r = pd.DataFrame()\n",
    "r['n'] = range(10,1000,1)\n",
    "r['time_loop'] = [sum_n(x) for x in r['n']]\n",
    "r['time_loop'] = 10000000*r['time_loop']\n",
    "r.plot(x='n', y='time_loop')\n",
    "plt.grid()\n",
    "plt.ylabel('us')\n",
    "%timeit sum_n(100)"
   ]
  },
  {
   "cell_type": "markdown",
   "id": "16f72aa7",
   "metadata": {},
   "source": [
    "Random funtion"
   ]
  },
  {
   "cell_type": "code",
   "execution_count": 158,
   "id": "40b2cb3b",
   "metadata": {
    "scrolled": false
   },
   "outputs": [
    {
     "name": "stdout",
     "output_type": "stream",
     "text": [
      "Media = 3241750.0\n",
      "Mediana = 0.0\n",
      "Desviacion estandar= 7245807.0298545\n"
     ]
    },
    {
     "data": {
      "text/html": [
       "<div>\n",
       "<style scoped>\n",
       "    .dataframe tbody tr th:only-of-type {\n",
       "        vertical-align: middle;\n",
       "    }\n",
       "\n",
       "    .dataframe tbody tr th {\n",
       "        vertical-align: top;\n",
       "    }\n",
       "\n",
       "    .dataframe thead th {\n",
       "        text-align: right;\n",
       "    }\n",
       "</style>\n",
       "<table border=\"1\" class=\"dataframe\">\n",
       "  <thead>\n",
       "    <tr style=\"text-align: right;\">\n",
       "      <th></th>\n",
       "      <th>n</th>\n",
       "      <th>time_loop</th>\n",
       "    </tr>\n",
       "  </thead>\n",
       "  <tbody>\n",
       "    <tr>\n",
       "      <th>0</th>\n",
       "      <td>1</td>\n",
       "      <td>21820000.0</td>\n",
       "    </tr>\n",
       "    <tr>\n",
       "      <th>1</th>\n",
       "      <td>11</td>\n",
       "      <td>0.0</td>\n",
       "    </tr>\n",
       "    <tr>\n",
       "      <th>2</th>\n",
       "      <td>21</td>\n",
       "      <td>10060000.0</td>\n",
       "    </tr>\n",
       "    <tr>\n",
       "      <th>3</th>\n",
       "      <td>31</td>\n",
       "      <td>537500.0</td>\n",
       "    </tr>\n",
       "    <tr>\n",
       "      <th>4</th>\n",
       "      <td>41</td>\n",
       "      <td>0.0</td>\n",
       "    </tr>\n",
       "    <tr>\n",
       "      <th>5</th>\n",
       "      <td>51</td>\n",
       "      <td>0.0</td>\n",
       "    </tr>\n",
       "    <tr>\n",
       "      <th>6</th>\n",
       "      <td>61</td>\n",
       "      <td>0.0</td>\n",
       "    </tr>\n",
       "    <tr>\n",
       "      <th>7</th>\n",
       "      <td>71</td>\n",
       "      <td>0.0</td>\n",
       "    </tr>\n",
       "    <tr>\n",
       "      <th>8</th>\n",
       "      <td>81</td>\n",
       "      <td>0.0</td>\n",
       "    </tr>\n",
       "    <tr>\n",
       "      <th>9</th>\n",
       "      <td>91</td>\n",
       "      <td>0.0</td>\n",
       "    </tr>\n",
       "  </tbody>\n",
       "</table>\n",
       "</div>"
      ],
      "text/plain": [
       "    n   time_loop\n",
       "0   1  21820000.0\n",
       "1  11         0.0\n",
       "2  21  10060000.0\n",
       "3  31    537500.0\n",
       "4  41         0.0\n",
       "5  51         0.0\n",
       "6  61         0.0\n",
       "7  71         0.0\n",
       "8  81         0.0\n",
       "9  91         0.0"
      ]
     },
     "execution_count": 158,
     "metadata": {},
     "output_type": "execute_result"
    },
    {
     "data": {
      "image/png": "[encoded data removed]",
      "text/plain": [
       "<Figure size 432x288 with 1 Axes>"
      ]
     },
     "metadata": {
      "needs_background": "light"
     },
     "output_type": "display_data"
    }
   ],
   "source": [
    "def aleatorios(n):\n",
    "      lista = [0]  * n\n",
    "      for i in range(n):\n",
    "          lista[i] = random.randint(100, 1000)\n",
    "      return lista\n",
    "\n",
    "list=aleatorios(100)\n",
    "\n",
    "def sum_n(n):\n",
    "    start = 1000000*time.time()\n",
    "    total = 0\n",
    "    for i in range(1,len(list)):\n",
    "        l = list[i]\n",
    "        j = i - 1\n",
    "        while (j >= 0 and l > list[j]):\n",
    "            list[j + 1] = list[j]\n",
    "            j -= 1\n",
    "        list[j + 1] = l\n",
    "    return 1000000*time.time() - start\n",
    "\n",
    "r = pd.DataFrame()\n",
    "r['n'] = range(1,100,10)\n",
    "r['time_loop'] = [sum_n(x) for x in r['n']]\n",
    "r['time_loop'] = 10000*r['time_loop']\n",
    "r.plot(x='n', y='time_loop')\n",
    "plt.grid()\n",
    "plt.ylabel('us')\n",
    "\n",
    "a=r['time_loop'].mean()\n",
    "b=r['time_loop'].median()\n",
    "c=r['time_loop'].std()\n",
    "\n",
    "print(\"Media =\", a)\n",
    "print(\"Mediana =\", b)\n",
    "print(\"Desviacion estandar=\", c)\n",
    "\n",
    "r"
   ]
  },
  {
   "cell_type": "markdown",
   "id": "d81aeb01",
   "metadata": {},
   "source": [
    "Media"
   ]
  },
  {
   "cell_type": "code",
   "execution_count": 159,
   "id": "dfd8f28a",
   "metadata": {},
   "outputs": [
    {
     "data": {
      "text/plain": [
       "Text(0, 0.5, 'us')"
      ]
     },
     "execution_count": 159,
     "metadata": {},
     "output_type": "execute_result"
    },
    {
     "data": {
      "image/png": "[encoded data removed]",
      "text/plain": [
       "<Figure size 432x288 with 1 Axes>"
      ]
     },
     "metadata": {
      "needs_background": "light"
     },
     "output_type": "display_data"
    }
   ],
   "source": [
    "r = pd.DataFrame()\n",
    "r['n'] = range(10,1000,1)\n",
    "r['mean'] = [a for x in r['n']]\n",
    "r['mean'] = 1000000*r['mean']\n",
    "r.plot(x='n', y='mean')\n",
    "plt.grid()\n",
    "plt.ylabel('us')"
   ]
  },
  {
   "cell_type": "markdown",
   "id": "ce07359e",
   "metadata": {},
   "source": [
    "Mediana"
   ]
  },
  {
   "cell_type": "code",
   "execution_count": 160,
   "id": "22fa82f9",
   "metadata": {},
   "outputs": [
    {
     "data": {
      "text/plain": [
       "Text(0, 0.5, 'us')"
      ]
     },
     "execution_count": 160,
     "metadata": {},
     "output_type": "execute_result"
    },
    {
     "data": {
      "image/png": "[encoded data removed]",
      "text/plain": [
       "<Figure size 432x288 with 1 Axes>"
      ]
     },
     "metadata": {
      "needs_background": "light"
     },
     "output_type": "display_data"
    }
   ],
   "source": [
    "r = pd.DataFrame()\n",
    "r['n'] = range(10,1000,1)\n",
    "r['median'] = [b for x in r['n']]\n",
    "r['median'] = 1000000*r['median']\n",
    "r.plot(x='n', y='median')\n",
    "plt.grid()\n",
    "plt.ylabel('us')"
   ]
  },
  {
   "cell_type": "markdown",
   "id": "f9bfbbc3",
   "metadata": {},
   "source": [
    "Desviación estandar"
   ]
  },
  {
   "cell_type": "code",
   "execution_count": 161,
   "id": "59b53ac8",
   "metadata": {},
   "outputs": [
    {
     "data": {
      "text/plain": [
       "Text(0, 0.5, 'us')"
      ]
     },
     "execution_count": 161,
     "metadata": {},
     "output_type": "execute_result"
    },
    {
     "data": {
      "image/png": "[encoded data removed]",
      "text/plain": [
       "<Figure size 432x288 with 1 Axes>"
      ]
     },
     "metadata": {
      "needs_background": "light"
     },
     "output_type": "display_data"
    }
   ],
   "source": [
    "r = pd.DataFrame()\n",
    "r['n'] = range(10,1000,1)\n",
    "r['std'] = [c for x in r['n']]\n",
    "r['std'] = 1000000*r['std']\n",
    "r.plot(x='n', y='std')\n",
    "plt.grid()\n",
    "plt.ylabel('us')"
   ]
  },
  {
   "cell_type": "markdown",
   "id": "a3746feb",
   "metadata": {},
   "source": [
    "## 3.  CLRS 2.1-4\n",
    "pg. 22\n"
   ]
  },
  {
   "cell_type": "markdown",
   "id": "389b9a8f",
   "metadata": {},
   "source": [
    "Creación del Pseudocodigo\n",
    "\n",
    "Inicio\n",
    "\n",
    "Creación del arreglo A\\\n",
    "Creación del arreglo B\\\n",
    "Creación de variable acarreo= 0\n",
    "\n",
    "Almacenamiento en variable n de la busqueda del valor máximo del arreglo A y B\\\n",
    "Creacion del arreglo C=[0 for i en rango de (n + 1)]\n",
    "\n",
    "Bucle for i en rango de (n)\\\n",
    "${\\hspace{1em}}$if i es menor longitud(A)\\\n",
    "${\\hspace{1em}}$p=A[i]\\\n",
    "${\\hspace{1em}}$caso contrario da 0\\\n",
    "${\\hspace{1em}}$if i es menor longitud(A)\\\n",
    "${\\hspace{1em}}$q=B[i]\\\n",
    "${\\hspace{1em}}$caso contrario da 0\n",
    "       \n",
    "${\\hspace{1em}}$C[i]=(p+q+acarreo) modulo de->2\\\n",
    "${\\hspace{1em}}$acarreo=(a+b+acarreo) division redondea inferior mas cercano->2\n",
    "    \n",
    "${\\hspace{1em}}$Asigna la variable acarreo al arreglo C[n]\n",
    "\n",
    "Imprime C\n",
    "\n",
    "Fin\n"
   ]
  },
  {
   "cell_type": "markdown",
   "id": "fd9ddcc1",
   "metadata": {},
   "source": [
    "## 4.  CLRS 3.1-1\n",
    "pg. 52"
   ]
  },
  {
   "cell_type": "markdown",
   "id": "761c75b4",
   "metadata": {},
   "source": [
    "Demostrar ${max(f(n),g(n)) = \\Theta(f(n)+g(n))}$\n",
    "\n",
    "Por definición de $\\Theta$ (asintoticamente no negativo) se asume que ${f(n)}$ y ${g(n)}$ seran $\\geq$ 0\n",
    "\n",
    "También:\n",
    "\n",
    "${max(f(n),g(n))}$ $\\in$ ${\\Theta(f(n)+g(n))}$\n",
    "\n",
    "Desglosando ${\\Theta(f(n)+g(n))}$\n",
    "\n",
    " $O(f(n)+g(n))$\n",
    " \n",
    " ${\\Omega(f(n)+g(n))}$\n",
    " \n",
    "Por lo tanto, se consideran los casos en los cuales:\n",
    "\n",
    "${f(n)}$ sea máximo o cuando ${g(n)}$ sea maximo\n",
    "\n",
    "${max(f(n),g(n))\\geq g(n)}$\\\n",
    "${max(f(n),g(n))\\geq f(n)}$\n",
    "\n",
    "Realizando la suma de ambas inecuaciones se obtiene:\n",
    "\n",
    "${2*max(f(n),g(n))\\geq f(n)+g(n)}$\n",
    "\n",
    "Para encontrar el valor c1 es necesario despejar ${max(f(n),g(n))}$\n",
    "\n",
    "${max(f(n),g(n))\\geq \\frac{f(n)+g(n)}{2}}$ por lo que c1= ${\\frac{1}{2}}$\n",
    "Y le corresponde a la expresion\n",
    "\n",
    "${max(f(n),g(n)) = \\Omega(f(n)+g(n))}$ (límite inferior)\n",
    "\n",
    "${max(f(n),g(n))\\geq f(n)+g(n)}$ por lo que c2= 1\n",
    "Y le corresponde a la expresión\n",
    "\n",
    "${max(f(n),g(n)) = O(f(n)+g(n))}$ (límite superior)\n",
    "\n",
    "Por lo tanto, es correcto que ${max(f(n),g(n)) = \\Theta(f(n)+g(n))}$\n",
    "\n"
   ]
  },
  {
   "cell_type": "markdown",
   "id": "4a070079",
   "metadata": {},
   "source": [
    "## 5. CLRS 3.1-2\n",
    "pg. 52"
   ]
  },
  {
   "cell_type": "markdown",
   "id": "27b9b25a",
   "metadata": {},
   "source": [
    "Demuestre que para cualquier constante real a y b, donde $b>0$\n",
    "\n",
    "${(n+a)^b = \\theta(n^b)}$ \n",
    "\n",
    "Según la definición ${\\Theta}$\n",
    "\n",
    "${0 \\leq c1*n^b \\leq (n+a)^b \\leq c2*n^b}$ para toda ${n\\geq n0}$\n",
    "\n",
    "${c1 \\leq (\\frac{n+a}{n})^b}$\n",
    "\n",
    "${c1^\\frac{1}{b} \\leq 1+ \\frac{a}{n}}$\n",
    "\n",
    "a tendrá que ser un valor $>0$ y tenderá a 0 por lo que estará en valor absoluto \n",
    "\n",
    "Siendo ${\\frac{1}{6}}$ un valor elegido para que se cumpla ${\\Omega}$\n",
    "\n",
    "${\\left|\\frac{a}{n} \\right|\\leq \\frac{1}{6}}$\n",
    "\n",
    "Despejando ${\\left|a\\right|}$ \n",
    "\n",
    "${\\left|a \\right|\\leq \\frac{n}{6}}$ entonces ${n\\geq \\left|a \\right|}$\n",
    "\n",
    "${n+a \\geq n-\\left|a \\right| \\geq \\frac{n}{6}}$\n",
    "\n",
    "Cuando ${4*n \\geq \\left|a \\right|}$\n",
    "\n",
    "${0 \\leq \\frac{n}{6} \\leq n+a \\leq 4*n}$\n",
    "\n",
    "Volviendo a la inecuación de la definición ${\\Theta}$ sabiendo que b>0\n",
    "\n",
    "${0 \\leq (\\frac{n}{6})^b \\leq (n+a)^b \\leq (4*n)^b}$\n",
    "\n",
    "${0 \\leq (\\frac{1}{6})^b * n^b \\leq (n+a)^b \\leq (4)^b *n^b}$\n",
    "\n",
    "Por lo tanto, los valores de c1, c2 y n0 son:\n",
    "\n",
    "${c1= (\\frac{1}{6})^b}$\n",
    "\n",
    "${c2= 4^b}$\n",
    "\n",
    "${n0= 4*\\left|a \\right|}$\n"
   ]
  },
  {
   "cell_type": "markdown",
   "id": "7fe796ed",
   "metadata": {},
   "source": [
    "## 6. CLRS 3.1-6\n",
    "pg. 53"
   ]
  },
  {
   "cell_type": "markdown",
   "id": "7de68785",
   "metadata": {},
   "source": [
    "Prueba que el tiempo de ejecución de un algoritmo es ${\\Theta(g(n))}$ si y solo si el peor caso de tiempo de ejecución es ${O( g(n))}$ y el mejor caso de tiempo de ejecución es ${\\Omega(g(n))}$\n",
    "\n",
    "Segun el teorema ${\\Omega(g(n))}$ \n",
    "\n",
    "${0 \\leq c1*g(n) \\leq f(n) \\leq c2*g(n)}$ para toda ${n\\geq n0}$\n",
    "\n",
    " \n",
    "en el limite superior ${O( g(n))}$ \n",
    "\n",
    "${0 \\leq f(n) \\leq c*g(n)}$ para toda ${n\\geq n0}$ \n",
    "\n",
    "\n",
    "el limite inferior ${\\Omega(g(n))}$ \n",
    "\n",
    "${0 \\leq c*g(n) \\leq f(n) }$ para toda ${n\\geq n0}$ \n",
    "\n",
    "Entonces, no importa la entrada en particular del tamaño de n que se elija para cada valor del mismo, el tiempo de ejecución en dicha entrada es al menos $c*g(n)$, para una grande n en caso de $\\Omega$ y $c*f(n)$ en O.\n",
    "En efecto se cumple ${\\Theta(g(n))}$.\n"
   ]
  },
  {
   "cell_type": "markdown",
   "id": "2d3a36bc",
   "metadata": {},
   "source": [
    "## 7. CLRS 3-4 (a,b,e,g)\n",
    "pg. 62"
   ]
  },
  {
   "cell_type": "markdown",
   "id": "e5d7df5a",
   "metadata": {},
   "source": [
    "- a. ${f(n)=O(g(n))}$ implica ${g(n)= O(f(n))}$\n",
    "\n",
    "No satisface porque si BigO se cumple en cualquiera de los dos casos (lo cual va a pasar) la otra operación sera falsa por lo que ambas operaciones arrojaran sentido contrario(que es lo normal), el Big O no se cumple en ambos casos.\n",
    "\n",
    "- b. ${f(n)+g(n))}$ = ${\\Theta(min(f(n),g(n))}$\n",
    "\n",
    "El caso es parecido al ejercicio 3.1-1 con la lógica del literal a, se analiza tanto límite superior como inferior, es entonces cuando se asemeja a la situación del literal a, el Big O no se cumple, tampoco el Big ${\\Theta}$ por lo tanto, ${\\Omega}$ no es una opción válida.\n",
    "\n",
    "- e. ${f(n)=O((f(n))^2)}$\n",
    "\n",
    "No satisface ya que al aplicar una funcion racional el Big O no cumple con algunos c y n\n",
    "\n",
    "- g. ${f(n)=\\Theta(f(n/2))}$\n",
    "\n",
    "No satisface, por que Big ${\\Omega}$ y Big O no se cumplen con algunos valores de c1 y c2, por lo tanto Big ${\\Theta}$ es falso"
   ]
  }
 ],
 "metadata": {
  "kernelspec": {
   "display_name": "Python 3",
   "language": "python",
   "name": "python3"
  },
  "language_info": {
   "codemirror_mode": {
    "name": "ipython",
    "version": 3
   },
   "file_extension": ".py",
   "mimetype": "text/x-python",
   "name": "python",
   "nbconvert_exporter": "python",
   "pygments_lexer": "ipython3",
   "version": "3.8.8"
  }
 },
 "nbformat": 4,
 "nbformat_minor": 5
}
